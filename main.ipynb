{
  "cells": [
    {
      "cell_type": "code",
      "execution_count": 1,
      "id": "a18a800b",
      "metadata": {
        "id": "a18a800b",
        "outputId": "a72428b9-c51c-43a0-d1c5-183af29f348d",
        "colab": {
          "base_uri": "https://localhost:8080/"
        }
      },
      "outputs": [
        {
          "output_type": "stream",
          "name": "stdout",
          "text": [
            "Cloning into 'gpt2-from-scratch'...\n",
            "remote: Enumerating objects: 206, done.\u001b[K\n",
            "remote: Counting objects: 100% (206/206), done.\u001b[K\n",
            "remote: Compressing objects: 100% (147/147), done.\u001b[K\n",
            "remote: Total 206 (delta 75), reused 171 (delta 50), pack-reused 0 (from 0)\u001b[K\n",
            "Receiving objects: 100% (206/206), 1.26 MiB | 22.17 MiB/s, done.\n",
            "Resolving deltas: 100% (75/75), done.\n"
          ]
        }
      ],
      "source": [
        "!git clone https://github.com/PauloHFS/gpt2-from-scratch.git"
      ]
    },
    {
      "cell_type": "code",
      "execution_count": 2,
      "id": "fa6d1837",
      "metadata": {
        "id": "fa6d1837",
        "outputId": "f0b4d669-d9fb-46df-b446-2b3d40626f51",
        "colab": {
          "base_uri": "https://localhost:8080/"
        }
      },
      "outputs": [
        {
          "output_type": "stream",
          "name": "stdout",
          "text": [
            "/content/gpt2-from-scratch\n"
          ]
        }
      ],
      "source": [
        "%cd gpt2-from-scratch"
      ]
    },
    {
      "cell_type": "markdown",
      "id": "6417d54f",
      "metadata": {
        "id": "6417d54f"
      },
      "source": [
        "# GPT From Scratch\n",
        "\n",
        "Este repositório irá implementar o GPT 2 do zero, com o código bruto do modelo presente na pasta `src`.\n",
        "\n",
        "O objetivo será realizar o seguinte fluxo de atividades:\n",
        "* Leitura do dataset;\n",
        "* Treina modelo;\n",
        "* Plotagem de métricas durante treino;\n",
        "* Processa modelo para gerar textos;\n",
        "* Avaliação dos textos;\n",
        "* Plotagem da avaliação;\n",
        "* Conclusão."
      ]
    },
    {
      "cell_type": "markdown",
      "id": "f175e3f2",
      "metadata": {
        "id": "f175e3f2"
      },
      "source": [
        "---"
      ]
    },
    {
      "cell_type": "markdown",
      "id": "aa7d98d6",
      "metadata": {
        "id": "aa7d98d6"
      },
      "source": [
        "# Preparando ambiente\n",
        "\n",
        "Importando pacotes python para utilização do código"
      ]
    },
    {
      "cell_type": "code",
      "execution_count": 3,
      "id": "3ec472e3",
      "metadata": {
        "id": "3ec472e3"
      },
      "outputs": [],
      "source": [
        "# Importando pacotes python\n",
        "\n",
        "from os import mkdir, environ\n",
        "from os.path import exists\n",
        "\n",
        "from json import load"
      ]
    },
    {
      "cell_type": "markdown",
      "id": "12d00818",
      "metadata": {
        "id": "12d00818"
      },
      "source": [
        "Importando pacotes para execução do experimento"
      ]
    },
    {
      "cell_type": "code",
      "execution_count": 4,
      "id": "95ae61c1",
      "metadata": {
        "id": "95ae61c1"
      },
      "outputs": [],
      "source": [
        "from src.dataload.tokenizer import Tokenizer\n",
        "from src.gptmodel.model import GPTModel"
      ]
    },
    {
      "cell_type": "markdown",
      "id": "c2c1e38c",
      "metadata": {
        "id": "c2c1e38c"
      },
      "source": [
        "---"
      ]
    },
    {
      "cell_type": "markdown",
      "id": "1a0e881a",
      "metadata": {
        "id": "1a0e881a"
      },
      "source": [
        "# Configurações para rodar o sistema\n",
        "\n",
        "Aqui ocorrerá as constantes para o processamento do sistema:"
      ]
    },
    {
      "cell_type": "code",
      "execution_count": 5,
      "id": "6e5b60b4",
      "metadata": {
        "id": "6e5b60b4"
      },
      "outputs": [],
      "source": [
        "RESULT_DIR = \"results\"\n",
        "\n",
        "if not exists(RESULT_DIR): mkdir(RESULT_DIR)"
      ]
    },
    {
      "cell_type": "markdown",
      "id": "48c55032",
      "metadata": {
        "id": "48c55032"
      },
      "source": [
        "Diretório de banco de dados:"
      ]
    },
    {
      "cell_type": "code",
      "execution_count": 6,
      "id": "15f6dab0",
      "metadata": {
        "id": "15f6dab0"
      },
      "outputs": [],
      "source": [
        "DATASET_DIR = \"dataset/\""
      ]
    },
    {
      "cell_type": "markdown",
      "id": "e43e0509",
      "metadata": {
        "id": "e43e0509"
      },
      "source": [
        "Caminho final dos tokens:"
      ]
    },
    {
      "cell_type": "code",
      "execution_count": 7,
      "id": "42016dc9",
      "metadata": {
        "id": "42016dc9"
      },
      "outputs": [],
      "source": [
        "TOKEN_TEXTS = f\"{RESULT_DIR}/tokens.txt\""
      ]
    },
    {
      "cell_type": "markdown",
      "id": "ade15e7e",
      "metadata": {
        "id": "ade15e7e"
      },
      "source": [
        "Caminho do melhor modelo:"
      ]
    },
    {
      "cell_type": "code",
      "execution_count": 8,
      "id": "9967da1e",
      "metadata": {
        "id": "9967da1e"
      },
      "outputs": [],
      "source": [
        "BEST_MODEL_PATH = f\"{RESULT_DIR}/best_model.pt\""
      ]
    },
    {
      "cell_type": "markdown",
      "id": "26857c28",
      "metadata": {
        "id": "26857c28"
      },
      "source": [
        "Configuração do GPT:"
      ]
    },
    {
      "cell_type": "code",
      "execution_count": 9,
      "id": "bfab71be",
      "metadata": {
        "id": "bfab71be"
      },
      "outputs": [],
      "source": [
        "GPT_CONFIGURATION = f\"src/gpt_configurations.json\""
      ]
    },
    {
      "cell_type": "markdown",
      "id": "44a666ff",
      "metadata": {
        "id": "44a666ff"
      },
      "source": [
        "Estatísticas:"
      ]
    },
    {
      "cell_type": "code",
      "execution_count": 10,
      "id": "5c1c9a42",
      "metadata": {
        "id": "5c1c9a42"
      },
      "outputs": [],
      "source": [
        "TRAIN_RATIO = 0.8\n",
        "BATCH_SIZE = 5"
      ]
    },
    {
      "cell_type": "markdown",
      "id": "3a390704",
      "metadata": {
        "id": "3a390704"
      },
      "source": [
        "Configuração:"
      ]
    },
    {
      "cell_type": "code",
      "execution_count": 11,
      "id": "de559932",
      "metadata": {
        "id": "de559932"
      },
      "outputs": [],
      "source": [
        "with open(GPT_CONFIGURATION, 'r') as f:\n",
        "    CONFIGURATION = load(f)"
      ]
    },
    {
      "cell_type": "code",
      "execution_count": 12,
      "id": "df747df8",
      "metadata": {
        "id": "df747df8"
      },
      "outputs": [],
      "source": [
        "CONFIGURATION_KEY = \"GPT_CONFIG_SMALL_COLAB\""
      ]
    },
    {
      "cell_type": "code",
      "execution_count": 13,
      "id": "de8be9f3",
      "metadata": {
        "id": "de8be9f3"
      },
      "outputs": [],
      "source": [
        "configuration = CONFIGURATION[CONFIGURATION_KEY]"
      ]
    },
    {
      "cell_type": "code",
      "execution_count": 14,
      "id": "26f34d73",
      "metadata": {
        "id": "26f34d73",
        "outputId": "683248b7-138e-48ac-ae84-49fa116e45ef",
        "colab": {
          "base_uri": "https://localhost:8080/"
        }
      },
      "outputs": [
        {
          "output_type": "execute_result",
          "data": {
            "text/plain": [
              "{'vocab_size': 50257,\n",
              " 'context_length': 256,\n",
              " 'emb_dim': 256,\n",
              " 'n_heads': 8,\n",
              " 'n_layers': 8,\n",
              " 'drop_rate': 0.1,\n",
              " 'qkv_bias': False,\n",
              " 'attention_type': 'gqa',\n",
              " 'num_kv_groups': 4}"
            ]
          },
          "metadata": {},
          "execution_count": 14
        }
      ],
      "source": [
        "configuration"
      ]
    },
    {
      "cell_type": "markdown",
      "id": "7906d30c",
      "metadata": {
        "id": "7906d30c"
      },
      "source": [
        "Ambientes de execução:"
      ]
    },
    {
      "cell_type": "code",
      "execution_count": 15,
      "id": "c60a8789",
      "metadata": {
        "id": "c60a8789"
      },
      "outputs": [],
      "source": [
        "environ['CUDA_LAUNCH_BLOCKING'] = \"1\""
      ]
    },
    {
      "cell_type": "markdown",
      "id": "04b37546",
      "metadata": {
        "id": "04b37546"
      },
      "source": [
        "---"
      ]
    },
    {
      "cell_type": "markdown",
      "id": "b5ab1620",
      "metadata": {
        "id": "b5ab1620"
      },
      "source": [
        "# Leitura do Dataset\n",
        "\n",
        "Tokenizando todo o conjunto de dados para treinamento e salvando em um arquivo de texto:"
      ]
    },
    {
      "cell_type": "code",
      "execution_count": 16,
      "id": "25dddeca",
      "metadata": {
        "id": "25dddeca"
      },
      "outputs": [],
      "source": [
        "tokenizer = Tokenizer([\"utf-8\", \"latin1\"])"
      ]
    },
    {
      "cell_type": "code",
      "execution_count": 17,
      "id": "cf55680e",
      "metadata": {
        "id": "cf55680e",
        "outputId": "89ecf42b-063e-4c2c-f1ca-3e460393ca25",
        "colab": {
          "base_uri": "https://localhost:8080/"
        }
      },
      "outputs": [
        {
          "output_type": "stream",
          "name": "stderr",
          "text": [
            "100%|██████████| 10/10 [00:00<00:00, 603.09it/s]\n"
          ]
        }
      ],
      "source": [
        "tokenizer.generate_data(DATASET_DIR, TOKEN_TEXTS)"
      ]
    },
    {
      "cell_type": "markdown",
      "id": "5c5610ec",
      "metadata": {
        "id": "5c5610ec"
      },
      "source": [
        "Carregando base de dados:"
      ]
    },
    {
      "cell_type": "code",
      "execution_count": 18,
      "id": "ff66f5d9",
      "metadata": {
        "id": "ff66f5d9"
      },
      "outputs": [],
      "source": [
        "with open(TOKEN_TEXTS, 'r') as f:\n",
        "    contents = f.read()"
      ]
    },
    {
      "cell_type": "code",
      "execution_count": 19,
      "id": "168eee33",
      "metadata": {
        "id": "168eee33"
      },
      "outputs": [],
      "source": [
        "train_dataloader, test_dataloader = tokenizer.create_dataloaders(\n",
        "    contents,\n",
        "    TRAIN_RATIO,\n",
        "    BATCH_SIZE,\n",
        "    configuration[\"context_length\"],\n",
        "    configuration[\"context_length\"]\n",
        "    )"
      ]
    },
    {
      "cell_type": "markdown",
      "id": "8edb55a5",
      "metadata": {
        "id": "8edb55a5"
      },
      "source": [
        "---"
      ]
    },
    {
      "cell_type": "markdown",
      "id": "0feb291f",
      "metadata": {
        "id": "0feb291f"
      },
      "source": [
        "# Treino dos modelos\n",
        "\n",
        "Esta seção irá ocorrer a instanciação e geração dos modelos:"
      ]
    },
    {
      "cell_type": "code",
      "execution_count": 20,
      "id": "4ca2f78a",
      "metadata": {
        "id": "4ca2f78a"
      },
      "outputs": [],
      "source": [
        "model = GPTModel(\n",
        "    vocab_size=configuration[\"vocab_size\"],\n",
        "    emb_dim=configuration[\"emb_dim\"],\n",
        "    context_length=configuration[\"context_length\"],\n",
        "    drop_rate=configuration[\"drop_rate\"],\n",
        "    n_heads=configuration[\"n_heads\"],\n",
        "    n_layers=configuration[\"n_layers\"],\n",
        "    qkv_bias=configuration[\"qkv_bias\"]\n",
        "    )"
      ]
    },
    {
      "cell_type": "code",
      "execution_count": 21,
      "id": "bc77f99f",
      "metadata": {
        "id": "bc77f99f",
        "outputId": "7252dca6-5cf5-4aff-bff7-bb1ffd67d4c6",
        "colab": {
          "base_uri": "https://localhost:8080/"
        }
      },
      "outputs": [
        {
          "output_type": "stream",
          "name": "stdout",
          "text": [
            "Training model on device: cuda\n"
          ]
        },
        {
          "output_type": "stream",
          "name": "stderr",
          "text": [
            "  0%|          | 0/1 [00:30<?, ?it/s]"
          ]
        },
        {
          "output_type": "stream",
          "name": "stdout",
          "text": [
            "Epoch 1/1 | Step 200 - Train Loss: 5.4648, Val Loss 5.1759, Throughput: 10775.6 tokens / sec\n"
          ]
        },
        {
          "output_type": "stream",
          "name": "stderr",
          "text": [
            "  0%|          | 0/1 [00:30<?, ?it/s]"
          ]
        },
        {
          "output_type": "stream",
          "name": "stdout",
          "text": [
            "New best model saved to results/best_model.pt with val_loss: 5.1759\n"
          ]
        },
        {
          "output_type": "stream",
          "name": "stderr",
          "text": [
            "  0%|          | 0/1 [01:00<?, ?it/s]"
          ]
        },
        {
          "output_type": "stream",
          "name": "stdout",
          "text": [
            "Epoch 1/1 | Step 400 - Train Loss: 4.6459, Val Loss 4.6252, Throughput: 11035.7 tokens / sec\n"
          ]
        },
        {
          "output_type": "stream",
          "name": "stderr",
          "text": [
            "  0%|          | 0/1 [01:01<?, ?it/s]"
          ]
        },
        {
          "output_type": "stream",
          "name": "stdout",
          "text": [
            "New best model saved to results/best_model.pt with val_loss: 4.6252\n"
          ]
        },
        {
          "output_type": "stream",
          "name": "stderr",
          "text": [
            "  0%|          | 0/1 [01:30<?, ?it/s]"
          ]
        },
        {
          "output_type": "stream",
          "name": "stdout",
          "text": [
            "Epoch 1/1 | Step 600 - Train Loss: 4.3412, Val Loss 4.4097, Throughput: 10062.5 tokens / sec\n"
          ]
        },
        {
          "output_type": "stream",
          "name": "stderr",
          "text": [
            "  0%|          | 0/1 [01:31<?, ?it/s]"
          ]
        },
        {
          "output_type": "stream",
          "name": "stdout",
          "text": [
            "New best model saved to results/best_model.pt with val_loss: 4.4097\n"
          ]
        },
        {
          "output_type": "stream",
          "name": "stderr",
          "text": [
            "100%|██████████| 1/1 [01:52<00:00, 112.51s/it]\n"
          ]
        }
      ],
      "source": [
        "trained_models, final_metrics = GPTModel._train(\n",
        "    model=model,\n",
        "    train_loader=train_dataloader,\n",
        "    val_loader=test_dataloader,\n",
        "    device_str=\"cuda\",\n",
        "    path=BEST_MODEL_PATH)"
      ]
    },
    {
      "cell_type": "markdown",
      "id": "b8690433",
      "metadata": {
        "id": "b8690433"
      },
      "source": [
        "---"
      ]
    },
    {
      "cell_type": "markdown",
      "id": "d8ad10b0",
      "metadata": {
        "id": "d8ad10b0"
      },
      "source": [
        "# Análise de treinamento\n",
        "\n",
        "Nesta seção irá ocorrer a análise do treinamento do modelo:"
      ]
    },
    {
      "cell_type": "code",
      "source": [
        "import matplotlib.pyplot as plt\n",
        "import numpy as np\n",
        "\n",
        "val_interval = 200\n",
        "\n",
        "num_val_points = len(final_metrics.val_loss)\n",
        "val_steps = np.arange(1, num_val_points + 1) * val_interval\n",
        "\n",
        "fig = plt.figure(figsize=(12, 7))\n",
        "\n",
        "plt.plot(\n",
        "    np.arange(1, len(final_metrics.train_loss) + 1),\n",
        "    final_metrics.train_loss,\n",
        "    label='Train Loss',\n",
        "    alpha=0.8\n",
        ")\n",
        "\n",
        "plt.plot(\n",
        "    val_steps,\n",
        "    final_metrics.val_loss,\n",
        "    label='Validation Loss',\n",
        "    marker='o',\n",
        "    linestyle='--',\n",
        "    linewidth=2\n",
        ")\n",
        "\n",
        "plt.xlabel('Passos de Treinamento')\n",
        "plt.ylabel('Loss')\n",
        "plt.title('Loss Durante o Treinamento')\n",
        "plt.legend()\n",
        "plt.grid(True)\n",
        "plt.show()"
      ],
      "metadata": {
        "id": "XAcaDYWgkMe_",
        "outputId": "d253b00e-0204-46f6-81c9-ee38fd4b4c1b",
        "colab": {
          "base_uri": "https://localhost:8080/",
          "height": 641
        }
      },
      "id": "XAcaDYWgkMe_",
      "execution_count": 27,
      "outputs": [
        {
          "output_type": "display_data",
          "data": {
            "text/plain": [
              "<Figure size 1200x700 with 1 Axes>"
            ],
            "image/png": "[encoded data removed]"
          },
          "metadata": {}
        }
      ]
    },
    {
      "cell_type": "markdown",
      "id": "2aa5289f",
      "metadata": {
        "id": "2aa5289f"
      },
      "source": [
        "---"
      ]
    },
    {
      "cell_type": "markdown",
      "id": "02d55bd3",
      "metadata": {
        "id": "02d55bd3"
      },
      "source": [
        "# Geração de Textos para avaliação\n",
        "\n",
        "Esta seção irá ocorrer a geração de textos para avaliação:"
      ]
    },
    {
      "cell_type": "code",
      "execution_count": 24,
      "id": "1b41d1fd",
      "metadata": {
        "id": "1b41d1fd"
      },
      "outputs": [],
      "source": []
    },
    {
      "cell_type": "markdown",
      "id": "85ccab54",
      "metadata": {
        "id": "85ccab54"
      },
      "source": [
        "---"
      ]
    },
    {
      "cell_type": "markdown",
      "id": "c782795c",
      "metadata": {
        "id": "c782795c"
      },
      "source": [
        "# Avaliação dos textos\n",
        "\n",
        "Esta seção irá ocorrer a avaliação dos textos gerados pela LLM, tanto numericamente como graficamente."
      ]
    },
    {
      "cell_type": "code",
      "execution_count": 24,
      "id": "93ed8d49",
      "metadata": {
        "id": "93ed8d49"
      },
      "outputs": [],
      "source": []
    },
    {
      "cell_type": "markdown",
      "id": "ce259956",
      "metadata": {
        "id": "ce259956"
      },
      "source": [
        "---"
      ]
    },
    {
      "cell_type": "markdown",
      "id": "37f88758",
      "metadata": {
        "id": "37f88758"
      },
      "source": [
        "# Conclusão"
      ]
    },
    {
      "cell_type": "markdown",
      "id": "22bab43d",
      "metadata": {
        "id": "22bab43d"
      },
      "source": [
        "Por fim, aqui teremos uma seção de feedback a respeito das atividades desenvolvidas!"
      ]
    }
  ],
  "metadata": {
    "kernelspec": {
      "display_name": "Python 3",
      "name": "python3"
    },
    "language_info": {
      "codemirror_mode": {
        "name": "ipython",
        "version": 3
      },
      "file_extension": ".py",
      "mimetype": "text/x-python",
      "name": "python",
      "nbconvert_exporter": "python",
      "pygments_lexer": "ipython3",
      "version": "3.12.11"
    },
    "colab": {
      "provenance": [],
      "gpuType": "T4"
    },
    "accelerator": "GPU"
  },
  "nbformat": 4,
  "nbformat_minor": 5
}
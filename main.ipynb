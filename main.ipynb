{
 "cells": [
  {
   "cell_type": "code",
   "execution_count": null,
   "id": "a18a800b",
   "metadata": {},
   "outputs": [],
   "source": [
    "#!git clone https://github.com/PauloHFS/gpt2-from-scratch.git"
   ]
  },
  {
   "cell_type": "code",
   "execution_count": null,
   "id": "fa6d1837",
   "metadata": {},
   "outputs": [],
   "source": [
    "#%cd gpt2-from-scratch"
   ]
  },
  {
   "cell_type": "markdown",
   "id": "6417d54f",
   "metadata": {},
   "source": [
    "# GPT From Scratch\n",
    "\n",
    "Este repositório irá implementar o GPT 2 do zero, com o código bruto do modelo presente na pasta `src`.\n",
    "\n",
    "O objetivo será realizar o seguinte fluxo de atividades:\n",
    "* Leitura do dataset;\n",
    "* Treina modelo;\n",
    "* Plotagem de métricas durante treino;\n",
    "* Processa modelo para gerar textos;\n",
    "* Avaliação dos textos;\n",
    "* Plotagem da avaliação;\n",
    "* Conclusão."
   ]
  },
  {
   "cell_type": "markdown",
   "id": "f175e3f2",
   "metadata": {},
   "source": [
    "---"
   ]
  },
  {
   "cell_type": "markdown",
   "id": "aa7d98d6",
   "metadata": {},
   "source": [
    "# Preparando ambiente\n",
    "\n",
    "Importando pacotes python para utilização do código"
   ]
  },
  {
   "cell_type": "code",
   "execution_count": null,
   "id": "3ec472e3",
   "metadata": {},
   "outputs": [],
   "source": [
    "# Importando pacotes python\n",
    "\n",
    "from os import mkdir, environ\n",
    "from os.path import exists\n",
    "\n",
    "from json import load"
   ]
  },
  {
   "cell_type": "markdown",
   "id": "12d00818",
   "metadata": {},
   "source": [
    "Importando pacotes para execução do experimento"
   ]
  },
  {
   "cell_type": "code",
   "execution_count": null,
   "id": "95ae61c1",
   "metadata": {},
   "outputs": [],
   "source": [
    "from src.dataload.tokenizer import Tokenizer\n",
    "from src.gptmodel.model import GPTModel"
   ]
  },
  {
   "cell_type": "markdown",
   "id": "c2c1e38c",
   "metadata": {},
   "source": [
    "---"
   ]
  },
  {
   "cell_type": "markdown",
   "id": "1a0e881a",
   "metadata": {},
   "source": [
    "# Configurações para rodar o sistema\n",
    "\n",
    "Aqui ocorrerá as constantes para o processamento do sistema:"
   ]
  },
  {
   "cell_type": "code",
   "execution_count": null,
   "id": "6e5b60b4",
   "metadata": {},
   "outputs": [],
   "source": [
    "RESULT_DIR = \"results\"\n",
    "\n",
    "if not exists(RESULT_DIR): mkdir(RESULT_DIR)"
   ]
  },
  {
   "cell_type": "markdown",
   "id": "48c55032",
   "metadata": {},
   "source": [
    "Diretório de banco de dados:"
   ]
  },
  {
   "cell_type": "code",
   "execution_count": null,
   "id": "15f6dab0",
   "metadata": {},
   "outputs": [],
   "source": [
    "DATASET_DIR = \"dataset/\""
   ]
  },
  {
   "cell_type": "markdown",
   "id": "e43e0509",
   "metadata": {},
   "source": [
    "Caminho final dos tokens:"
   ]
  },
  {
   "cell_type": "code",
   "execution_count": null,
   "id": "42016dc9",
   "metadata": {},
   "outputs": [],
   "source": [
    "TOKEN_TEXTS = f\"{RESULT_DIR}/tokens.txt\""
   ]
  },
  {
   "cell_type": "markdown",
   "id": "ade15e7e",
   "metadata": {},
   "source": [
    "Caminho do melhor modelo:"
   ]
  },
  {
   "cell_type": "code",
   "execution_count": null,
   "id": "9967da1e",
   "metadata": {},
   "outputs": [],
   "source": [
    "BEST_MODEL_PATH = f\"{RESULT_DIR}/best_model.pt\""
   ]
  },
  {
   "cell_type": "markdown",
   "id": "26857c28",
   "metadata": {},
   "source": [
    "Configuração do GPT:"
   ]
  },
  {
   "cell_type": "code",
   "execution_count": null,
   "id": "bfab71be",
   "metadata": {},
   "outputs": [],
   "source": [
    "GPT_CONFIGURATION = f\"src/gpt_configurations.json\""
   ]
  },
  {
   "cell_type": "markdown",
   "id": "44a666ff",
   "metadata": {},
   "source": [
    "Estatísticas:"
   ]
  },
  {
   "cell_type": "code",
   "execution_count": null,
   "id": "5c1c9a42",
   "metadata": {},
   "outputs": [],
   "source": [
    "TRAIN_RATIO = 0.8\n",
    "BATCH_SIZE = 5"
   ]
  },
  {
   "cell_type": "markdown",
   "id": "3a390704",
   "metadata": {},
   "source": [
    "Configuração:"
   ]
  },
  {
   "cell_type": "code",
   "execution_count": null,
   "id": "de559932",
   "metadata": {},
   "outputs": [],
   "source": [
    "with open(GPT_CONFIGURATION, 'r') as f:\n",
    "    CONFIGURATION = load(f)"
   ]
  },
  {
   "cell_type": "code",
   "execution_count": null,
   "id": "df747df8",
   "metadata": {},
   "outputs": [],
   "source": [
    "CONFIGURATION_KEY = \"GPT_CONFIG_SMALL_COLAB\""
   ]
  },
  {
   "cell_type": "code",
   "execution_count": null,
   "id": "de8be9f3",
   "metadata": {},
   "outputs": [],
   "source": [
    "configuration = CONFIGURATION[CONFIGURATION_KEY]"
   ]
  },
  {
   "cell_type": "code",
   "execution_count": null,
   "id": "26f34d73",
   "metadata": {},
   "outputs": [],
   "source": [
    "configuration"
   ]
  },
  {
   "cell_type": "markdown",
   "id": "7906d30c",
   "metadata": {},
   "source": [
    "Ambientes de execução:"
   ]
  },
  {
   "cell_type": "code",
   "execution_count": null,
   "id": "c60a8789",
   "metadata": {},
   "outputs": [],
   "source": [
    "environ['CUDA_LAUNCH_BLOCKING'] = \"1\""
   ]
  },
  {
   "cell_type": "markdown",
   "id": "04b37546",
   "metadata": {},
   "source": [
    "---"
   ]
  },
  {
   "cell_type": "markdown",
   "id": "b5ab1620",
   "metadata": {},
   "source": [
    "# Leitura do Dataset\n",
    "\n",
    "Tokenizando todo o conjunto de dados para treinamento e salvando em um arquivo de texto:"
   ]
  },
  {
   "cell_type": "code",
   "execution_count": null,
   "id": "25dddeca",
   "metadata": {},
   "outputs": [],
   "source": [
    "tokenizer = Tokenizer([\"utf-8\", \"latin1\"])"
   ]
  },
  {
   "cell_type": "code",
   "execution_count": null,
   "id": "cf55680e",
   "metadata": {},
   "outputs": [],
   "source": [
    "tokenizer.generate_data(DATASET_DIR, TOKEN_TEXTS)"
   ]
  },
  {
   "cell_type": "markdown",
   "id": "5c5610ec",
   "metadata": {},
   "source": [
    "Carregando base de dados:"
   ]
  },
  {
   "cell_type": "code",
   "execution_count": null,
   "id": "ff66f5d9",
   "metadata": {},
   "outputs": [],
   "source": [
    "with open(TOKEN_TEXTS, 'r') as f:\n",
    "    contents = f.read()"
   ]
  },
  {
   "cell_type": "code",
   "execution_count": null,
   "id": "168eee33",
   "metadata": {},
   "outputs": [],
   "source": [
    "train_dataloader, test_dataloader = tokenizer.create_dataloaders(\n",
    "    contents, \n",
    "    TRAIN_RATIO, \n",
    "    BATCH_SIZE, \n",
    "    configuration[\"context_length\"], \n",
    "    configuration[\"context_length\"]\n",
    "    )"
   ]
  },
  {
   "cell_type": "markdown",
   "id": "8edb55a5",
   "metadata": {},
   "source": [
    "---"
   ]
  },
  {
   "cell_type": "markdown",
   "id": "0feb291f",
   "metadata": {},
   "source": [
    "# Treino dos modelos\n",
    "\n",
    "Esta seção irá ocorrer a instanciação e geração dos modelos:"
   ]
  },
  {
   "cell_type": "code",
   "execution_count": null,
   "id": "4ca2f78a",
   "metadata": {},
   "outputs": [],
   "source": [
    "model = GPTModel(\n",
    "    vocab_size=configuration[\"vocab_size\"],\n",
    "    emb_dim=configuration[\"emb_dim\"],\n",
    "    context_length=configuration[\"context_length\"],\n",
    "    drop_rate=configuration[\"drop_rate\"],\n",
    "    n_heads=configuration[\"n_heads\"],\n",
    "    n_layers=configuration[\"n_layers\"],\n",
    "    qkv_bias=configuration[\"qkv_bias\"]\n",
    "    )"
   ]
  },
  {
   "cell_type": "code",
   "execution_count": null,
   "id": "bc77f99f",
   "metadata": {},
   "outputs": [],
   "source": [
    "trained_models, final_metrics = GPTModel._train(\n",
    "    model=model, \n",
    "    train_loader=train_dataloader, \n",
    "    val_loader=test_dataloader, \n",
    "    device_str=\"cuda\",\n",
    "    path=BEST_MODEL_PATH)"
   ]
  },
  {
   "cell_type": "markdown",
   "id": "b8690433",
   "metadata": {},
   "source": [
    "---"
   ]
  },
  {
   "cell_type": "markdown",
   "id": "d8ad10b0",
   "metadata": {},
   "source": [
    "# Análise de treinamento\n",
    "\n",
    "Nesta seção irá ocorrer a análise do treinamento do modelo:"
   ]
  },
  {
   "cell_type": "code",
   "execution_count": null,
   "id": "f5faa959",
   "metadata": {},
   "outputs": [],
   "source": []
  },
  {
   "cell_type": "markdown",
   "id": "2aa5289f",
   "metadata": {},
   "source": [
    "---"
   ]
  },
  {
   "cell_type": "markdown",
   "id": "02d55bd3",
   "metadata": {},
   "source": [
    "# Geração de Textos para avaliação\n",
    "\n",
    "Esta seção irá ocorrer a geração de textos para avaliação:"
   ]
  },
  {
   "cell_type": "code",
   "execution_count": null,
   "id": "1b41d1fd",
   "metadata": {},
   "outputs": [],
   "source": []
  },
  {
   "cell_type": "markdown",
   "id": "85ccab54",
   "metadata": {},
   "source": [
    "---"
   ]
  },
  {
   "cell_type": "markdown",
   "id": "c782795c",
   "metadata": {},
   "source": [
    "# Avaliação dos textos\n",
    "\n",
    "Esta seção irá ocorrer a avaliação dos textos gerados pela LLM, tanto numericamente como graficamente."
   ]
  },
  {
   "cell_type": "code",
   "execution_count": null,
   "id": "93ed8d49",
   "metadata": {},
   "outputs": [],
   "source": []
  },
  {
   "cell_type": "markdown",
   "id": "ce259956",
   "metadata": {},
   "source": [
    "---"
   ]
  },
  {
   "cell_type": "markdown",
   "id": "37f88758",
   "metadata": {},
   "source": [
    "# Conclusão"
   ]
  },
  {
   "cell_type": "markdown",
   "id": "22bab43d",
   "metadata": {},
   "source": [
    "Por fim, aqui teremos uma seção de feedback a respeito das atividades desenvolvidas!"
   ]
  }
 ],
 "metadata": {
  "kernelspec": {
   "display_name": "gpt",
   "language": "python",
   "name": "python3"
  },
  "language_info": {
   "codemirror_mode": {
    "name": "ipython",
    "version": 3
   },
   "file_extension": ".py",
   "mimetype": "text/x-python",
   "name": "python",
   "nbconvert_exporter": "python",
   "pygments_lexer": "ipython3",
   "version": "3.12.11"
  }
 },
 "nbformat": 4,
 "nbformat_minor": 5
}

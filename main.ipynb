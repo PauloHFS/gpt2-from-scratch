{
 "cells": [
  {
   "cell_type": "markdown",
   "id": "6417d54f",
   "metadata": {},
   "source": [
    "# GPT From Scratch\n",
    "\n",
    "Este repositório irá implementar o GPT 2 do zero, com o código bruto do modelo presente na pasta `src`.\n",
    "\n",
    "O objetivo será realizar o seguinte fluxo de atividades:\n",
    "* Leitura do dataset;\n",
    "* Treina modelo;\n",
    "* Plotagem de métricas durante treino;\n",
    "* Processa modelo para gerar textos;\n",
    "* Avaliação dos textos;\n",
    "* Plotagem da avaliação;\n",
    "* Conclusão."
   ]
  },
  {
   "cell_type": "markdown",
   "id": "f175e3f2",
   "metadata": {},
   "source": [
    "---"
   ]
  },
  {
   "cell_type": "markdown",
   "id": "aa7d98d6",
   "metadata": {},
   "source": [
    "# Preparando ambiente\n",
    "\n",
    "Importando pacotes python para utilização do código"
   ]
  },
  {
   "cell_type": "code",
   "execution_count": 18,
   "id": "3ec472e3",
   "metadata": {},
   "outputs": [],
   "source": [
    "# Importando pacotes python\n",
    "\n",
    "from os import mkdir, environ\n",
    "from os.path import exists\n",
    "\n",
    "from json import load"
   ]
  },
  {
   "cell_type": "markdown",
   "id": "12d00818",
   "metadata": {},
   "source": [
    "Importando pacotes para execução do experimento"
   ]
  },
  {
   "cell_type": "code",
   "execution_count": 2,
   "id": "95ae61c1",
   "metadata": {},
   "outputs": [],
   "source": [
    "from src.dataload.tokenizer import Tokenizer\n",
    "from src.gptmodel.model import GPTModel"
   ]
  },
  {
   "cell_type": "markdown",
   "id": "c2c1e38c",
   "metadata": {},
   "source": [
    "---"
   ]
  },
  {
   "cell_type": "markdown",
   "id": "1a0e881a",
   "metadata": {},
   "source": [
    "# Configurações para rodar o sistema\n",
    "\n",
    "Aqui ocorrerá as constantes para o processamento do sistema:"
   ]
  },
  {
   "cell_type": "code",
   "execution_count": 3,
   "id": "6e5b60b4",
   "metadata": {},
   "outputs": [],
   "source": [
    "RESULT_DIR = \"results\"\n",
    "\n",
    "if not exists(RESULT_DIR): mkdir(RESULT_DIR)"
   ]
  },
  {
   "cell_type": "markdown",
   "id": "48c55032",
   "metadata": {},
   "source": [
    "Diretório de banco de dados:"
   ]
  },
  {
   "cell_type": "code",
   "execution_count": 4,
   "id": "15f6dab0",
   "metadata": {},
   "outputs": [],
   "source": [
    "DATASET_DIR = \"dataset/\""
   ]
  },
  {
   "cell_type": "markdown",
   "id": "e43e0509",
   "metadata": {},
   "source": [
    "Caminho final dos tokens:"
   ]
  },
  {
   "cell_type": "code",
   "execution_count": 5,
   "id": "42016dc9",
   "metadata": {},
   "outputs": [],
   "source": [
    "TOKEN_TEXTS = f\"{RESULT_DIR}/tokens.txt\""
   ]
  },
  {
   "cell_type": "markdown",
   "id": "ade15e7e",
   "metadata": {},
   "source": [
    "Caminho do melhor modelo:"
   ]
  },
  {
   "cell_type": "code",
   "execution_count": 6,
   "id": "9967da1e",
   "metadata": {},
   "outputs": [],
   "source": [
    "BEST_MODEL_PATH = f\"{RESULT_DIR}/best_model.pt\""
   ]
  },
  {
   "cell_type": "markdown",
   "id": "26857c28",
   "metadata": {},
   "source": [
    "Configuração do GPT:"
   ]
  },
  {
   "cell_type": "code",
   "execution_count": 7,
   "id": "bfab71be",
   "metadata": {},
   "outputs": [],
   "source": [
    "GPT_CONFIGURATION = f\"src/gpt_configurations.json\""
   ]
  },
  {
   "cell_type": "markdown",
   "id": "44a666ff",
   "metadata": {},
   "source": [
    "Estatísticas:"
   ]
  },
  {
   "cell_type": "code",
   "execution_count": 8,
   "id": "5c1c9a42",
   "metadata": {},
   "outputs": [],
   "source": [
    "TRAIN_RATIO = 0.8\n",
    "BATCH_SIZE = 5"
   ]
  },
  {
   "cell_type": "markdown",
   "id": "3a390704",
   "metadata": {},
   "source": [
    "Configuração:"
   ]
  },
  {
   "cell_type": "code",
   "execution_count": 9,
   "id": "de559932",
   "metadata": {},
   "outputs": [],
   "source": [
    "with open(GPT_CONFIGURATION, 'r') as f:\n",
    "    CONFIGURATION = load(f)"
   ]
  },
  {
   "cell_type": "code",
   "execution_count": 10,
   "id": "df747df8",
   "metadata": {},
   "outputs": [],
   "source": [
    "CONFIGURATION_KEY = \"GPT_CONFIG_124M\""
   ]
  },
  {
   "cell_type": "code",
   "execution_count": 11,
   "id": "de8be9f3",
   "metadata": {},
   "outputs": [],
   "source": [
    "configuration = CONFIGURATION[CONFIGURATION_KEY]"
   ]
  },
  {
   "cell_type": "markdown",
   "id": "04b37546",
   "metadata": {},
   "source": [
    "---"
   ]
  },
  {
   "cell_type": "markdown",
   "id": "b5ab1620",
   "metadata": {},
   "source": [
    "# Leitura do Dataset\n",
    "\n",
    "Tokenizando todo o conjunto de dados para treinamento e salvando em um arquivo de texto:"
   ]
  },
  {
   "cell_type": "code",
   "execution_count": 12,
   "id": "25dddeca",
   "metadata": {},
   "outputs": [],
   "source": [
    "tokenizer = Tokenizer([\"utf-8\", \"latin1\"])"
   ]
  },
  {
   "cell_type": "code",
   "execution_count": 13,
   "id": "cf55680e",
   "metadata": {},
   "outputs": [
    {
     "name": "stderr",
     "output_type": "stream",
     "text": [
      "100%|██████████| 10/10 [00:00<00:00, 665.83it/s]\n"
     ]
    }
   ],
   "source": [
    "tokenizer.generate_data(DATASET_DIR, TOKEN_TEXTS)"
   ]
  },
  {
   "cell_type": "markdown",
   "id": "5c5610ec",
   "metadata": {},
   "source": [
    "Carregando base de dados:"
   ]
  },
  {
   "cell_type": "code",
   "execution_count": 14,
   "id": "ff66f5d9",
   "metadata": {},
   "outputs": [],
   "source": [
    "with open(TOKEN_TEXTS, 'r') as f:\n",
    "    contents = f.read()"
   ]
  },
  {
   "cell_type": "code",
   "execution_count": 15,
   "id": "168eee33",
   "metadata": {},
   "outputs": [],
   "source": [
    "train_dataloader, test_dataloader = tokenizer.create_dataloaders(\n",
    "    contents, \n",
    "    TRAIN_RATIO, \n",
    "    BATCH_SIZE, \n",
    "    configuration[\"vocab_size\"], \n",
    "    configuration[\"vocab_size\"]\n",
    "    )"
   ]
  },
  {
   "cell_type": "markdown",
   "id": "8edb55a5",
   "metadata": {},
   "source": [
    "---"
   ]
  },
  {
   "cell_type": "markdown",
   "id": "0feb291f",
   "metadata": {},
   "source": [
    "# Treino dos modelos\n",
    "\n",
    "Esta seção irá ocorrer a instanciação e geração dos modelos:"
   ]
  },
  {
   "cell_type": "code",
   "execution_count": 16,
   "id": "4ca2f78a",
   "metadata": {},
   "outputs": [],
   "source": [
    "model = GPTModel(\n",
    "    vocab_size=configuration[\"vocab_size\"],\n",
    "    emb_dim=configuration[\"emb_dim\"],\n",
    "    context_length=configuration[\"context_length\"],\n",
    "    drop_rate=configuration[\"drop_rate\"],\n",
    "    n_heads=configuration[\"n_heads\"],\n",
    "    n_layers=configuration[\"n_layers\"],\n",
    "    qkv_bias=configuration[\"qkv_bias\"]\n",
    "    )"
   ]
  },
  {
   "cell_type": "code",
   "execution_count": 17,
   "id": "bc77f99f",
   "metadata": {},
   "outputs": [
    {
     "name": "stdout",
     "output_type": "stream",
     "text": [
      "Training model on device: cuda\n"
     ]
    },
    {
     "name": "stderr",
     "output_type": "stream",
     "text": [
      "  0%|          | 0/1 [00:00<?, ?it/s]/pytorch/aten/src/ATen/native/cuda/IndexKernelUtils.cu:16: vectorized_gather_kernel: block: [1040,0,0], thread: [128,0,0] Assertion `ind >=0 && ind < ind_dim_size && \"vectorized gather kernel index out of bounds\"` failed.\n",
      "/pytorch/aten/src/ATen/native/cuda/IndexKernelUtils.cu:16: vectorized_gather_kernel: block: [1040,0,0], thread: [129,0,0] Assertion `ind >=0 && ind < ind_dim_size && \"vectorized gather kernel index out of bounds\"` failed.\n",
      "/pytorch/aten/src/ATen/native/cuda/IndexKernelUtils.cu:16: vectorized_gather_kernel: block: [1040,0,0], thread: [130,0,0] Assertion `ind >=0 && ind < ind_dim_size && \"vectorized gather kernel index out of bounds\"` failed.\n",
      "/pytorch/aten/src/ATen/native/cuda/IndexKernelUtils.cu:16: vectorized_gather_kernel: block: [1040,0,0], thread: [131,0,0] Assertion `ind >=0 && ind < ind_dim_size && \"vectorized gather kernel index out of bounds\"` failed.\n",
      "/pytorch/aten/src/ATen/native/cuda/IndexKernelUtils.cu:16: vectorized_gather_kernel: block: [1040,0,0], thread: [132,0,0] Assertion `ind >=0 && ind < ind_dim_size && \"vectorized gather kernel index out of bounds\"` failed.\n",
      "/pytorch/aten/src/ATen/native/cuda/IndexKernelUtils.cu:16: vectorized_gather_kernel: block: [1040,0,0], thread: [133,0,0] Assertion `ind >=0 && ind < ind_dim_size && \"vectorized gather kernel index out of bounds\"` failed.\n",
      "/pytorch/aten/src/ATen/native/cuda/IndexKernelUtils.cu:16: vectorized_gather_kernel: block: [1040,0,0], thread: [134,0,0] Assertion `ind >=0 && ind < ind_dim_size && \"vectorized gather kernel index out of bounds\"` failed.\n",
      "/pytorch/aten/src/ATen/native/cuda/IndexKernelUtils.cu:16: vectorized_gather_kernel: block: [1040,0,0], thread: [135,0,0] Assertion `ind >=0 && ind < ind_dim_size && \"vectorized gather kernel index out of bounds\"` failed.\n",
      "/pytorch/aten/src/ATen/native/cuda/IndexKernelUtils.cu:16: vectorized_gather_kernel: block: [1040,0,0], thread: [136,0,0] Assertion `ind >=0 && ind < ind_dim_size && \"vectorized gather kernel index out of bounds\"` failed.\n",
      "/pytorch/aten/src/ATen/native/cuda/IndexKernelUtils.cu:16: vectorized_gather_kernel: block: [1040,0,0], thread: [137,0,0] Assertion `ind >=0 && ind < ind_dim_size && \"vectorized gather kernel index out of bounds\"` failed.\n",
      "/pytorch/aten/src/ATen/native/cuda/IndexKernelUtils.cu:16: vectorized_gather_kernel: block: [1040,0,0], thread: [138,0,0] Assertion `ind >=0 && ind < ind_dim_size && \"vectorized gather kernel index out of bounds\"` failed.\n",
      "/pytorch/aten/src/ATen/native/cuda/IndexKernelUtils.cu:16: vectorized_gather_kernel: block: [1040,0,0], thread: [139,0,0] Assertion `ind >=0 && ind < ind_dim_size && \"vectorized gather kernel index out of bounds\"` failed.\n",
      "/pytorch/aten/src/ATen/native/cuda/IndexKernelUtils.cu:16: vectorized_gather_kernel: block: [1040,0,0], thread: [140,0,0] Assertion `ind >=0 && ind < ind_dim_size && \"vectorized gather kernel index out of bounds\"` failed.\n",
      "/pytorch/aten/src/ATen/native/cuda/IndexKernelUtils.cu:16: vectorized_gather_kernel: block: [1040,0,0], thread: [141,0,0] Assertion `ind >=0 && ind < ind_dim_size && \"vectorized gather kernel index out of bounds\"` failed.\n",
      "/pytorch/aten/src/ATen/native/cuda/IndexKernelUtils.cu:16: vectorized_gather_kernel: block: [1040,0,0], thread: [142,0,0] Assertion `ind >=0 && ind < ind_dim_size && \"vectorized gather kernel index out of bounds\"` failed.\n",
      "/pytorch/aten/src/ATen/native/cuda/IndexKernelUtils.cu:16: vectorized_gather_kernel: block: [1040,0,0], thread: [143,0,0] Assertion `ind >=0 && ind < ind_dim_size && \"vectorized gather kernel index out of bounds\"` failed.\n",
      "/pytorch/aten/src/ATen/native/cuda/IndexKernelUtils.cu:16: vectorized_gather_kernel: block: [1040,0,0], thread: [144,0,0] Assertion `ind >=0 && ind < ind_dim_size && \"vectorized gather kernel index out of bounds\"` failed.\n",
      "/pytorch/aten/src/ATen/native/cuda/IndexKernelUtils.cu:16: vectorized_gather_kernel: block: [1040,0,0], thread: [145,0,0] Assertion `ind >=0 && ind < ind_dim_size && \"vectorized gather kernel index out of bounds\"` failed.\n",
      "/pytorch/aten/src/ATen/native/cuda/IndexKernelUtils.cu:16: vectorized_gather_kernel: block: [1040,0,0], thread: [146,0,0] Assertion `ind >=0 && ind < ind_dim_size && \"vectorized gather kernel index out of bounds\"` failed.\n",
      "/pytorch/aten/src/ATen/native/cuda/IndexKernelUtils.cu:16: vectorized_gather_kernel: block: [1040,0,0], thread: [147,0,0] Assertion `ind >=0 && ind < ind_dim_size && \"vectorized gather kernel index out of bounds\"` failed.\n",
      "/pytorch/aten/src/ATen/native/cuda/IndexKernelUtils.cu:16: vectorized_gather_kernel: block: [1040,0,0], thread: [148,0,0] Assertion `ind >=0 && ind < ind_dim_size && \"vectorized gather kernel index out of bounds\"` failed.\n",
      "/pytorch/aten/src/ATen/native/cuda/IndexKernelUtils.cu:16: vectorized_gather_kernel: block: [1040,0,0], thread: [149,0,0] Assertion `ind >=0 && ind < ind_dim_size && \"vectorized gather kernel index out of bounds\"` failed.\n",
      "/pytorch/aten/src/ATen/native/cuda/IndexKernelUtils.cu:16: vectorized_gather_kernel: block: [1040,0,0], thread: [150,0,0] Assertion `ind >=0 && ind < ind_dim_size && \"vectorized gather kernel index out of bounds\"` failed.\n",
      "/pytorch/aten/src/ATen/native/cuda/IndexKernelUtils.cu:16: vectorized_gather_kernel: block: [1040,0,0], thread: [151,0,0] Assertion `ind >=0 && ind < ind_dim_size && \"vectorized gather kernel index out of bounds\"` failed.\n",
      "/pytorch/aten/src/ATen/native/cuda/IndexKernelUtils.cu:16: vectorized_gather_kernel: block: [1040,0,0], thread: [152,0,0] Assertion `ind >=0 && ind < ind_dim_size && \"vectorized gather kernel index out of bounds\"` failed.\n",
      "/pytorch/aten/src/ATen/native/cuda/IndexKernelUtils.cu:16: vectorized_gather_kernel: block: [1040,0,0], thread: [153,0,0] Assertion `ind >=0 && ind < ind_dim_size && \"vectorized gather kernel index out of bounds\"` failed.\n",
      "/pytorch/aten/src/ATen/native/cuda/IndexKernelUtils.cu:16: vectorized_gather_kernel: block: [1040,0,0], thread: [154,0,0] Assertion `ind >=0 && ind < ind_dim_size && \"vectorized gather kernel index out of bounds\"` failed.\n",
      "/pytorch/aten/src/ATen/native/cuda/IndexKernelUtils.cu:16: vectorized_gather_kernel: block: [1040,0,0], thread: [155,0,0] Assertion `ind >=0 && ind < ind_dim_size && \"vectorized gather kernel index out of bounds\"` failed.\n",
      "/pytorch/aten/src/ATen/native/cuda/IndexKernelUtils.cu:16: vectorized_gather_kernel: block: [1040,0,0], thread: [156,0,0] Assertion `ind >=0 && ind < ind_dim_size && \"vectorized gather kernel index out of bounds\"` failed.\n",
      "/pytorch/aten/src/ATen/native/cuda/IndexKernelUtils.cu:16: vectorized_gather_kernel: block: [1040,0,0], thread: [157,0,0] Assertion `ind >=0 && ind < ind_dim_size && \"vectorized gather kernel index out of bounds\"` failed.\n",
      "/pytorch/aten/src/ATen/native/cuda/IndexKernelUtils.cu:16: vectorized_gather_kernel: block: [1040,0,0], thread: [158,0,0] Assertion `ind >=0 && ind < ind_dim_size && \"vectorized gather kernel index out of bounds\"` failed.\n",
      "/pytorch/aten/src/ATen/native/cuda/IndexKernelUtils.cu:16: vectorized_gather_kernel: block: [1040,0,0], thread: [159,0,0] Assertion `ind >=0 && ind < ind_dim_size && \"vectorized gather kernel index out of bounds\"` failed.\n",
      "  0%|          | 0/1 [00:00<?, ?it/s]\n"
     ]
    },
    {
     "ename": "AcceleratorError",
     "evalue": "CUDA error: device-side assert triggered\nCUDA kernel errors might be asynchronously reported at some other API call, so the stacktrace below might be incorrect.\nFor debugging consider passing CUDA_LAUNCH_BLOCKING=1\nCompile with `TORCH_USE_CUDA_DSA` to enable device-side assertions.\n",
     "output_type": "error",
     "traceback": [
      "\u001b[31m---------------------------------------------------------------------------\u001b[39m",
      "\u001b[31mAcceleratorError\u001b[39m                          Traceback (most recent call last)",
      "\u001b[36mCell\u001b[39m\u001b[36m \u001b[39m\u001b[32mIn[17]\u001b[39m\u001b[32m, line 1\u001b[39m\n\u001b[32m----> \u001b[39m\u001b[32m1\u001b[39m trained_models, final_metrics = \u001b[43mGPTModel\u001b[49m\u001b[43m.\u001b[49m\u001b[43m_train\u001b[49m\u001b[43m(\u001b[49m\n\u001b[32m      2\u001b[39m \u001b[43m    \u001b[49m\u001b[43mmodel\u001b[49m\u001b[43m=\u001b[49m\u001b[43mmodel\u001b[49m\u001b[43m,\u001b[49m\u001b[43m \u001b[49m\n\u001b[32m      3\u001b[39m \u001b[43m    \u001b[49m\u001b[43mtrain_loader\u001b[49m\u001b[43m=\u001b[49m\u001b[43mtrain_dataloader\u001b[49m\u001b[43m,\u001b[49m\u001b[43m \u001b[49m\n\u001b[32m      4\u001b[39m \u001b[43m    \u001b[49m\u001b[43mval_loader\u001b[49m\u001b[43m=\u001b[49m\u001b[43mtest_dataloader\u001b[49m\u001b[43m,\u001b[49m\u001b[43m \u001b[49m\n\u001b[32m      5\u001b[39m \u001b[43m    \u001b[49m\u001b[43mdevice_str\u001b[49m\u001b[43m=\u001b[49m\u001b[33;43m\"\u001b[39;49m\u001b[33;43mcuda\u001b[39;49m\u001b[33;43m\"\u001b[39;49m\u001b[43m,\u001b[49m\n\u001b[32m      6\u001b[39m \u001b[43m    \u001b[49m\u001b[43mpath\u001b[49m\u001b[43m=\u001b[49m\u001b[43mBEST_MODEL_PATH\u001b[49m\u001b[43m)\u001b[49m\n",
      "\u001b[36mFile \u001b[39m\u001b[32m~/estudos/llm/gpt2-from-scratch/src/gptmodel/model.py:126\u001b[39m, in \u001b[36mGPTModel._train\u001b[39m\u001b[34m(model, train_loader, val_loader, device_str, learning_rate, epochs, grand_clip, val_interval, path)\u001b[39m\n\u001b[32m    123\u001b[39m input_ids: Tensor = input_ids.to(device_str)\n\u001b[32m    124\u001b[39m target_ids: Tensor = target_ids.to(device_str)\n\u001b[32m--> \u001b[39m\u001b[32m126\u001b[39m logits: Tensor = \u001b[43mmodel\u001b[49m\u001b[43m(\u001b[49m\u001b[43minput_ids\u001b[49m\u001b[43m)\u001b[49m\n\u001b[32m    127\u001b[39m loss = cross_entropy(\n\u001b[32m    128\u001b[39m     logits.view(-\u001b[32m1\u001b[39m, logits.size(-\u001b[32m1\u001b[39m)), target_ids.view(-\u001b[32m1\u001b[39m)\n\u001b[32m    129\u001b[39m )\n\u001b[32m    131\u001b[39m optimizer.zero_grad()\n",
      "\u001b[36mFile \u001b[39m\u001b[32m~/miniconda3/envs/gpt/lib/python3.12/site-packages/torch/nn/modules/module.py:1773\u001b[39m, in \u001b[36mModule._wrapped_call_impl\u001b[39m\u001b[34m(self, *args, **kwargs)\u001b[39m\n\u001b[32m   1771\u001b[39m     \u001b[38;5;28;01mreturn\u001b[39;00m \u001b[38;5;28mself\u001b[39m._compiled_call_impl(*args, **kwargs)  \u001b[38;5;66;03m# type: ignore[misc]\u001b[39;00m\n\u001b[32m   1772\u001b[39m \u001b[38;5;28;01melse\u001b[39;00m:\n\u001b[32m-> \u001b[39m\u001b[32m1773\u001b[39m     \u001b[38;5;28;01mreturn\u001b[39;00m \u001b[38;5;28;43mself\u001b[39;49m\u001b[43m.\u001b[49m\u001b[43m_call_impl\u001b[49m\u001b[43m(\u001b[49m\u001b[43m*\u001b[49m\u001b[43margs\u001b[49m\u001b[43m,\u001b[49m\u001b[43m \u001b[49m\u001b[43m*\u001b[49m\u001b[43m*\u001b[49m\u001b[43mkwargs\u001b[49m\u001b[43m)\u001b[49m\n",
      "\u001b[36mFile \u001b[39m\u001b[32m~/miniconda3/envs/gpt/lib/python3.12/site-packages/torch/nn/modules/module.py:1784\u001b[39m, in \u001b[36mModule._call_impl\u001b[39m\u001b[34m(self, *args, **kwargs)\u001b[39m\n\u001b[32m   1779\u001b[39m \u001b[38;5;66;03m# If we don't have any hooks, we want to skip the rest of the logic in\u001b[39;00m\n\u001b[32m   1780\u001b[39m \u001b[38;5;66;03m# this function, and just call forward.\u001b[39;00m\n\u001b[32m   1781\u001b[39m \u001b[38;5;28;01mif\u001b[39;00m \u001b[38;5;129;01mnot\u001b[39;00m (\u001b[38;5;28mself\u001b[39m._backward_hooks \u001b[38;5;129;01mor\u001b[39;00m \u001b[38;5;28mself\u001b[39m._backward_pre_hooks \u001b[38;5;129;01mor\u001b[39;00m \u001b[38;5;28mself\u001b[39m._forward_hooks \u001b[38;5;129;01mor\u001b[39;00m \u001b[38;5;28mself\u001b[39m._forward_pre_hooks\n\u001b[32m   1782\u001b[39m         \u001b[38;5;129;01mor\u001b[39;00m _global_backward_pre_hooks \u001b[38;5;129;01mor\u001b[39;00m _global_backward_hooks\n\u001b[32m   1783\u001b[39m         \u001b[38;5;129;01mor\u001b[39;00m _global_forward_hooks \u001b[38;5;129;01mor\u001b[39;00m _global_forward_pre_hooks):\n\u001b[32m-> \u001b[39m\u001b[32m1784\u001b[39m     \u001b[38;5;28;01mreturn\u001b[39;00m \u001b[43mforward_call\u001b[49m\u001b[43m(\u001b[49m\u001b[43m*\u001b[49m\u001b[43margs\u001b[49m\u001b[43m,\u001b[49m\u001b[43m \u001b[49m\u001b[43m*\u001b[49m\u001b[43m*\u001b[49m\u001b[43mkwargs\u001b[49m\u001b[43m)\u001b[49m\n\u001b[32m   1786\u001b[39m result = \u001b[38;5;28;01mNone\u001b[39;00m\n\u001b[32m   1787\u001b[39m called_always_called_hooks = \u001b[38;5;28mset\u001b[39m()\n",
      "\u001b[36mFile \u001b[39m\u001b[32m~/estudos/llm/gpt2-from-scratch/src/gptmodel/model.py:66\u001b[39m, in \u001b[36mGPTModel.forward\u001b[39m\u001b[34m(self, in_idx)\u001b[39m\n\u001b[32m     64\u001b[39m tok_embeds: Tensor = \u001b[38;5;28mself\u001b[39m.tok_emb(in_idx)\n\u001b[32m     65\u001b[39m pos_embeds: Tensor = \u001b[38;5;28mself\u001b[39m.pos_emb(arange(seq_len, device=in_idx.device))\n\u001b[32m---> \u001b[39m\u001b[32m66\u001b[39m x = \u001b[43mtok_embeds\u001b[49m\u001b[43m \u001b[49m\u001b[43m+\u001b[49m\u001b[43m \u001b[49m\u001b[43mpos_embeds\u001b[49m\n\u001b[32m     67\u001b[39m x = \u001b[38;5;28mself\u001b[39m.drop_emb(x)\n\u001b[32m     68\u001b[39m x = \u001b[38;5;28mself\u001b[39m.trf_blocks(x)\n",
      "\u001b[31mAcceleratorError\u001b[39m: CUDA error: device-side assert triggered\nCUDA kernel errors might be asynchronously reported at some other API call, so the stacktrace below might be incorrect.\nFor debugging consider passing CUDA_LAUNCH_BLOCKING=1\nCompile with `TORCH_USE_CUDA_DSA` to enable device-side assertions.\n"
     ]
    }
   ],
   "source": [
    "trained_models, final_metrics = GPTModel._train(\n",
    "    model=model, \n",
    "    train_loader=train_dataloader, \n",
    "    val_loader=test_dataloader, \n",
    "    device_str=\"cuda\",\n",
    "    path=BEST_MODEL_PATH)"
   ]
  },
  {
   "cell_type": "code",
   "execution_count": null,
   "id": "f8cb9cd0",
   "metadata": {},
   "outputs": [],
   "source": []
  }
 ],
 "metadata": {
  "kernelspec": {
   "display_name": "gpt",
   "language": "python",
   "name": "python3"
  },
  "language_info": {
   "codemirror_mode": {
    "name": "ipython",
    "version": 3
   },
   "file_extension": ".py",
   "mimetype": "text/x-python",
   "name": "python",
   "nbconvert_exporter": "python",
   "pygments_lexer": "ipython3",
   "version": "3.12.11"
  }
 },
 "nbformat": 4,
 "nbformat_minor": 5
}
